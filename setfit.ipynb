{
 "cells": [
  {
   "cell_type": "code",
   "execution_count": null,
   "id": "e0a9983d-c597-4dd9-8c6c-8efe3d1651b6",
   "metadata": {
    "tags": []
   },
   "outputs": [],
   "source": [
    "!pip install setfit"
   ]
  },
  {
   "cell_type": "code",
   "execution_count": null,
   "id": "82b941aa-3186-451e-9fef-88e4fc799254",
   "metadata": {
    "tags": []
   },
   "outputs": [],
   "source": [
    "from setfit import SetFitModel\n",
    "from datasets import load_dataset\n",
    "from setfit import Trainer\n",
    "from setfit import TrainingArguments\n",
    "from setfit import sample_dataset\n",
    "from sklearn.metrics import f1_score\n",
    "from setfit import SetFitModel\n",
    "from typing import Dict, Any\n",
    "from optuna import Trial\n",
    "from typing import Dict, Union"
   ]
  },
  {
   "cell_type": "code",
   "execution_count": null,
   "id": "1dd4c40f-2ce3-4e82-9a53-b528e0e00d62",
   "metadata": {
    "tags": []
   },
   "outputs": [],
   "source": [
    "def f1_score_func(preds, labels):\n",
    "    score = f1_score(labels, preds, average = 'macro')\n",
    "    return {\"f1\": score,\"f1\": score, }"
   ]
  },
  {
   "cell_type": "code",
   "execution_count": null,
   "id": "fa066128-565e-41f3-9160-d6bff9447a31",
   "metadata": {
    "tags": []
   },
   "outputs": [],
   "source": [
    "dataset = load_dataset(\"csv\", data_files=\"df_train.csv\")\n",
    "dataset = dataset.map(lambda example: {\"label\": example[\"sentiment\"]})\n",
    "dataset = dataset.remove_columns([\"Unnamed: 0\", \"id\", \"sentiment\"])"
   ]
  },
  {
   "cell_type": "code",
   "execution_count": null,
   "id": "0b15a751-1c3a-4be0-9c14-8d9d09513fff",
   "metadata": {
    "tags": []
   },
   "outputs": [],
   "source": [
    "dataset_val = load_dataset(\"csv\", data_files=\"df_val.csv\")\n",
    "dataset_val = dataset_val.map(lambda example: {\"label\": example[\"sentiment\"]})\n",
    "dataset_val = dataset_val.remove_columns([\"Unnamed: 0\", \"id\", \"sentiment\"])"
   ]
  },
  {
   "cell_type": "code",
   "execution_count": null,
   "id": "9ee59b47-2699-498f-89d3-6600a302bbf1",
   "metadata": {},
   "outputs": [],
   "source": [
    "model = SetFitModel.from_pretrained(\n",
    "    \"intfloat/multilingual-e5-large\",\n",
    "    use_differentiable_head=True,\n",
    "    head_params={\"out_features\": 3},\n",
    ")"
   ]
  },
  {
   "cell_type": "code",
   "execution_count": null,
   "id": "fa3a6331-27cd-42a0-9248-0ee4db47ff6c",
   "metadata": {},
   "outputs": [],
   "source": [
    "args = TrainingArguments(\n",
    "    batch_size=32,\n",
    "    num_epochs=1,\n",
    "    num_iterations = 2,\n",
    "    seed = 12\n",
    ")"
   ]
  },
  {
   "cell_type": "code",
   "execution_count": null,
   "id": "98eb687b-c1dd-4f1c-a060-bc49e84fb46c",
   "metadata": {
    "tags": []
   },
   "outputs": [],
   "source": [
    "trainer = Trainer(\n",
    "    model=model,\n",
    "    args=args,\n",
    "    train_dataset=dataset[\"train\"],\n",
    "    eval_dataset=dataset_val[\"train\"],\n",
    "    metric=f1_score_func, \n",
    ")"
   ]
  },
  {
   "cell_type": "code",
   "execution_count": null,
   "id": "4f407ce8-b16b-4a3e-a0d1-397b7064ed2d",
   "metadata": {
    "tags": []
   },
   "outputs": [],
   "source": [
    "trainer.train()"
   ]
  },
  {
   "cell_type": "code",
   "execution_count": null,
   "id": "59e8b623-1c4f-4dab-8e31-8f3075fecab2",
   "metadata": {
    "tags": []
   },
   "outputs": [],
   "source": [
    "trainer.evaluate()"
   ]
  },
  {
   "cell_type": "code",
   "execution_count": null,
   "id": "55f8e923-5597-4b90-b57a-bbeb79d2c86f",
   "metadata": {
    "tags": []
   },
   "outputs": [],
   "source": [
    "import pandas as pd\n",
    "\n",
    "df = pd.read_csv(\"holdback.tsv\", sep = \"\\t\") \n",
    "list_pred = model.predict(df[\"text\"].to_list())\n",
    "df[\"sentiment\"] = list_pred.cpu().numpy()\n",
    "df = pd.concat([df[\"sentiment\"], df[\"id\"]], axis = 1)\n",
    "df.to_csv(\"predictions_schwager_1426515\", sep=\"\\t\")"
   ]
  }
 ],
 "metadata": {
  "kernelspec": {
   "display_name": "Python 3 (ipykernel)",
   "language": "python",
   "name": "python3"
  },
  "language_info": {
   "codemirror_mode": {
    "name": "ipython",
    "version": 3
   },
   "file_extension": ".py",
   "mimetype": "text/x-python",
   "name": "python",
   "nbconvert_exporter": "python",
   "pygments_lexer": "ipython3",
   "version": "3.11.6"
  }
 },
 "nbformat": 4,
 "nbformat_minor": 5
}
